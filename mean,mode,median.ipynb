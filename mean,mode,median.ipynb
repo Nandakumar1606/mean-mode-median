{
  "nbformat": 4,
  "nbformat_minor": 0,
  "metadata": {
    "colab": {
      "provenance": [],
      "authorship_tag": "ABX9TyNxAE7IScvh04/NhQdm3uOU",
      "include_colab_link": true
    },
    "kernelspec": {
      "name": "python3",
      "display_name": "Python 3"
    },
    "language_info": {
      "name": "python"
    }
  },
  "cells": [
    {
      "cell_type": "markdown",
      "metadata": {
        "id": "view-in-github",
        "colab_type": "text"
      },
      "source": [
        "<a href=\"https://colab.research.google.com/github/Nandakumar1606/mean-mode-median/blob/main/mean%2Cmode%2Cmedian.ipynb\" target=\"_parent\"><img src=\"https://colab.research.google.com/assets/colab-badge.svg\" alt=\"Open In Colab\"/></a>"
      ]
    },
    {
      "cell_type": "code",
      "source": [
        "import numpy as np\n",
        "data=[1,2,3,4,5,6,7,8,9]"
      ],
      "metadata": {
        "id": "X1SkC-Wg_ugw"
      },
      "execution_count": null,
      "outputs": []
    },
    {
      "cell_type": "code",
      "source": [
        "mean=np.mean(data)\n",
        "print(\"Mean:\",(mean))\n",
        "median=np.median(data)\n",
        "print(\"Median:\",(median))\n",
        "from scipy import stats\n",
        "mode=stats.mode(data)\n",
        "print(\"Mode:\",(mode.mode))\n",
        "variance=np.var(data)\n",
        "print(\"Variance:\",(variance))\n",
        "std_dev=np.std(data)\n",
        "print(\"Standard Deviation:\",(std_dev))"
      ],
      "metadata": {
        "colab": {
          "base_uri": "https://localhost:8080/"
        },
        "id": "6pIN0VTb_0z3",
        "outputId": "5aa42118-0018-41f5-d044-0cf612fd9c38"
      },
      "execution_count": null,
      "outputs": [
        {
          "output_type": "stream",
          "name": "stdout",
          "text": [
            "Mean: 5.0\n",
            "Median: 5.0\n",
            "Mode: 1\n",
            "Variance: 6.666666666666667\n",
            "Standard Deviation: 2.581988897471611\n"
          ]
        }
      ]
    }
  ]
}